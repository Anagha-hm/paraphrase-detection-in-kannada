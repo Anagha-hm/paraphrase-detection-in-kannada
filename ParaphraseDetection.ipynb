{
  "nbformat": 4,
  "nbformat_minor": 0,
  "metadata": {
    "colab": {
      "name": "ParaphraseDetection.ipynb",
      "provenance": [],
      "collapsed_sections": []
    },
    "kernelspec": {
      "name": "python3",
      "display_name": "Python 3"
    },
    "language_info": {
      "name": "python"
    }
  },
  "cells": [
    {
      "cell_type": "code",
      "metadata": {
        "id": "UQvtyTIbZJ4y"
      },
      "source": [
        "import numpy as np\n",
        "import pandas as pd\n",
        "import re "
      ],
      "execution_count": null,
      "outputs": []
    },
    {
      "cell_type": "code",
      "metadata": {
        "id": "F-C0v0bLcRYt"
      },
      "source": [
        "df= pd.read_csv('kannada_paraphrases.csv')"
      ],
      "execution_count": null,
      "outputs": []
    },
    {
      "cell_type": "code",
      "metadata": {
        "id": "cDngjhpeeQOA"
      },
      "source": [
        "!pip install inltk"
      ],
      "execution_count": null,
      "outputs": []
    },
    {
      "cell_type": "code",
      "metadata": {
        "id": "xO0vURNAeLNZ"
      },
      "source": [
        "from inltk.inltk import setup"
      ],
      "execution_count": null,
      "outputs": []
    },
    {
      "cell_type": "code",
      "metadata": {
        "id": "tW8Ff595YCxr"
      },
      "source": [
        "setup('kn')"
      ],
      "execution_count": null,
      "outputs": []
    },
    {
      "cell_type": "code",
      "metadata": {
        "id": "7zdQixv6eo4g"
      },
      "source": [
        "from inltk.inltk import get_embedding_vectors"
      ],
      "execution_count": null,
      "outputs": []
    },
    {
      "cell_type": "code",
      "metadata": {
        "id": "10oqpXlTe02f"
      },
      "source": [
        "from inltk.inltk import tokenize"
      ],
      "execution_count": null,
      "outputs": []
    },
    {
      "cell_type": "code",
      "metadata": {
        "id": "j9zKu18kD79a"
      },
      "source": [
        "# df = df[:100]"
      ],
      "execution_count": null,
      "outputs": []
    },
    {
      "cell_type": "code",
      "metadata": {
        "id": "jVTItoYSMMsL"
      },
      "source": [
        "# PRE-PROCESSING : CLEANING\n",
        "# OUTPUT: CLEAN DATA, STRIPPED OF UNWANTED CHARACTERS AND ALPHABETS\n",
        "\n",
        "df.Sentence_1 = df.Sentence_1.str.replace('\\d+', '')\n",
        "df.Sentence_1 = df.Sentence_1.str.replace('\\'','')\n",
        "df.Sentence_1 = df.Sentence_1.str.replace('\\\"','')\n",
        "df.Sentence_1 = df.Sentence_1.str.replace(',','')\n",
        "df.Sentence_1 = df.Sentence_1.str.replace('.','')\n",
        "df.Sentence_1 = df.Sentence_1.str.replace('-','')\n",
        "df.Sentence_1 = df.Sentence_1.str.replace('%','')\n",
        "df.Sentence_1 = df.Sentence_1.str.replace(':','')\n",
        "df.Sentence_1 = df.Sentence_1.str.replace('$','')\n",
        "df.Sentence_1 = [re.sub('[a-zA-Z]','',df.Sentence_1.iloc[i]) for i in range(len(df.Sentence_1))]"
      ],
      "execution_count": null,
      "outputs": []
    },
    {
      "cell_type": "code",
      "metadata": {
        "colab": {
          "base_uri": "https://localhost:8080/"
        },
        "id": "QepGMm-logUc",
        "outputId": "a62d99ec-884b-47da-91c0-e35a35dca573"
      },
      "source": [
        "df.Sentence_1.iloc[100:130]\n"
      ],
      "execution_count": null,
      "outputs": [
        {
          "output_type": "execute_result",
          "data": {
            "text/plain": [
              "100    ಇರಾನ್ ಅಧ್ಯಕ್ಷೀಯ ಮತದಾನದಲ್ಲಿ ರೂಹಾನಿ ಮುನ್ನಡೆ  ಪ್ರ...\n",
              "101    ಖೈದಿಗಳ ವಿನಿಮಯದ ಕುರಿತು ಇಸ್ರೇಲಿಗಳು ಪ್ಯಾಲೆಸ್ಟೀನಿಯ...\n",
              "102    ಬೆಲ್‌ಫಾಸ್ಟ್ ಧ್ವಜ ಪ್ರತಿಭಟನೆಯಲ್ಲಿ ಪೊಲೀಸರು ದಾಳಿ ನ...\n",
              "103    ನೈಜೀರಿಯಾ ಪಾಲಿಮರ್ ನೋಟುಗಳನ್ನು ಹಂತ ಹಂತವಾಗಿ ತೆಗೆದು...\n",
              "104    ದಕ್ಷಿಣ ಕೊರಿಯಾ ಕೆಸಾಂಗ್ ಕುರಿತು ಉತ್ತರ ಕೊರಿಯಾದ ಅಂತ...\n",
              "105    ಪ್ಯಾಲೇಸ್ಟಿನಿಯನ್ ಕೈದಿಗಳ ಬಿಡುಗಡೆಯನ್ನು ಅನುಮೋದಿಸಲು...\n",
              "106    ಬಂದೂಕುಧಾರಿಗಳು  ವಿದೇಶಿ ಪ್ರವಾಸಿಗರನ್ನು ಕೊಂದರು ಒಬ್...\n",
              "107    ಪ್ಯಾಲೇಸ್ಟಿನಿಯನ್ನರು ಮತ್ತೊಂದು ವೆಸ್ಟ್ ಬ್ಯಾಂಕ್ ಟೆಂ...\n",
              "108    ಮೊರ್ಸಿ ಪರ ಪ್ರತಿಭಟನೆಗೆ ಮುನ್ನ ಈಜಿಪ್ಟ್ ಭದ್ರತೆಯನ್ನ...\n",
              "109    ವಸಾಹತು ಯೋಜನೆಗಳ ಮೇಲೆ ಇಸ್ರೇಲಿ ರಾಯಭಾರಿಗಳನ್ನು ಕರೆಸ...\n",
              "110     ಸೋರಿಕೆದಾರನ ವಿರುದ್ಧ ಬೇಹುಗಾರಿಕೆ ಆರೋಪವನ್ನು ಅಮೆರಿ...\n",
              "111    ನೆವಾಡಾ ಮಿಡ್ಲ್ ಸ್ಕೂಲ್ ಗುಂಡಿನ ದಾಳಿಯಲ್ಲಿ  ಸಾವು  ಮ...\n",
              "112    ಬಾಂಗ್ಲಾದೇಶ ಕಟ್ಟಡ ಕುಸಿದು ಸಾವಿನ ಸಂಖ್ಯೆ ಕ್ಕೆ ತಲುಪಿದೆ\n",
              "113    ಸ್ಟೇಟ್ ಆಫ್ ಯೂನಿಯನ್‌ನಲ್ಲಿ ಒಬಾಮಾ ಆರ್ಥಿಕತೆಯ ಮೇಲೆ ...\n",
              "114    ಚೀನಾದ ಜನರಲ್ ಮಗನಿಗೆ ಅತ್ಯಾಚಾರ ಪ್ರಕರಣದಲ್ಲಿ  ವರ್ಷ ...\n",
              "115    ಮೊರ್ಸಿ ಬೆಂಬಲಿಗರ ಮೇಲಿನ ಈಜಿಪ್ಟ್ ಶಿಸ್ತುಕ್ರಮಕ್ಕೆ ಇ...\n",
              "116                       ಪಾಕಿಸ್ತಾನದಲ್ಲಿ ಸಾಧಾರಣ ಭೂಕಂಪನವು\n",
              "117    ಕೊಸೊವೊ ಅಂಗಾಂಗ ಕಳ್ಳಸಾಗಣೆ ಪ್ರಕರಣದಲ್ಲಿ ಐವರಿಗೆ ಶಿಕ್ಷೆ\n",
              "118        ಬಾಂಗ್ಲಾ ಪ್ರತಿಭಟನೆಯಲ್ಲಿ  ಮಂದಿ ಸಾವನ್ನಪ್ಪಿದ್ದಾರೆ\n",
              "119    ಫ್ಲೋರಿಡಾ ಅಪಾರ್ಟ್‌ಮೆಂಟ್‌ನಲ್ಲಿ ಗುಂಡಿನ ದಾಳಿ ನಡೆಸಿ...\n",
              "120            ಪ್ರತಿಭಟನೆಯ ನಡುವೆ ಉಕ್ರೇನ್ ಪ್ರಧಾನಿ ರಾಜೀನಾಮೆ\n",
              "121        ಇರಾಕ್‌ನಲ್ಲಿ ಬಾಂಬ್ ಸ್ಫೋಟದ ಅಲೆ  ಜನರನ್ನು ಕೊಂದಿತು\n",
              "122    ಗೂಗಲ್ ಇಂಟರ್ನೆಟ್ಬೀಮಿಂಗ್ ಬಲೂನ್‌ಗಳನ್ನು ಬಿಡುಗಡೆ ಮಾ...\n",
              "123    ಶಸ್ತ್ರಾಸ್ತ್ರಗಳ ಮೇಲೆ ಉದ್ವಿಗ್ನತೆ ಹೆಚ್ಚಾಗುತ್ತಿದ್ದ...\n",
              "124    ಅಮೆರಿಕದ ದತ್ತು ನಿಷೇಧಕ್ಕೆ ರಷ್ಯಾ ಆರಂಭಿಕ ಒಪ್ಪಿಗೆ ನ...\n",
              "125    ಸ್ಯಾನ್ ಫ್ರಾನ್ಸಿಸ್ಕೋ ವಿಮಾನವು ಒಂದು ನೋಟದಲ್ಲಿ ಅಪಘಾ...\n",
              "126                  ಹೃತಿಕ್ ರೋಷನ್ ಪತ್ನಿ ಸುಸಾನೆ ಬೇರೆಯಾದರು\n",
              "127    ಕ್ರಿಸ್ಮಸ್ ಕ್ರೂಸ್ ಪ್ರಯಾಣಿಕರು ನೊರೊವೈರಸ್ನಿಂದ ಹೊಡೆ...\n",
              "128    ಆಘಾತಕಾರಿ ಚಲನೆಯಲ್ಲಿ ಒಬಾಮಾ ಸಿರಿಯಾ ಮುಷ್ಕರವನ್ನು ತಡ...\n",
              "129                ಸ್ನೋಡೆನ್ ರಷ್ಯಾದಲ್ಲಿ ಉಳಿಯಲು ಕೇಳುತ್ತಾನೆ\n",
              "Name: Sentence_1, dtype: object"
            ]
          },
          "metadata": {},
          "execution_count": 20
        }
      ]
    },
    {
      "cell_type": "code",
      "metadata": {
        "id": "jmsWAMrGISbU"
      },
      "source": [
        "df.Sentence_2 = df.Sentence_2.str.replace('\\d+', '')\n",
        "df.Sentence_2 = df.Sentence_2.str.replace('\\'','')\n",
        "df.Sentence_2 = df.Sentence_2.str.replace('\\\"','')\n",
        "df.Sentence_2 = df.Sentence_2.str.replace(',','')\n",
        "df.Sentence_2 = df.Sentence_2.str.replace('.','')\n",
        "df.Sentence_2 = df.Sentence_2.str.replace('-','')\n",
        "df.Sentence_2 = df.Sentence_2.str.replace('%','')\n",
        "df.Sentence_2 = df.Sentence_2.str.replace(':','')\n",
        "df.Sentence_2 = df.Sentence_2.str.replace('$','')\n",
        "df.Sentence_2 = [re.sub('[a-zA-Z]','',df.Sentence_2.iloc[i]) for i in range(len(df.Sentence_2))]"
      ],
      "execution_count": null,
      "outputs": []
    },
    {
      "cell_type": "code",
      "metadata": {
        "colab": {
          "base_uri": "https://localhost:8080/",
          "height": 35
        },
        "id": "2KI_Q-wHpJPR",
        "outputId": "ceacdd1c-4004-4026-f3c9-0ddc6e6c2a10"
      },
      "source": [
        "df.Sentence_2.iloc[61]"
      ],
      "execution_count": null,
      "outputs": [
        {
          "output_type": "execute_result",
          "data": {
            "application/vnd.google.colaboratory.intrinsic+json": {
              "type": "string"
            },
            "text/plain": [
              "'ಮೇ ವಸತಿ ಪ್ರಾರಂಭವಾಗುತ್ತದೆ '"
            ]
          },
          "metadata": {},
          "execution_count": 19
        }
      ]
    },
    {
      "cell_type": "code",
      "metadata": {
        "id": "fv-bxOLcpaNg"
      },
      "source": [
        "# STORE CLEANED DATASET\n",
        "\n",
        "df.to_csv('cleaned_dataset.csv')"
      ],
      "execution_count": null,
      "outputs": []
    },
    {
      "cell_type": "code",
      "source": [
        "\n",
        "\n",
        "df2= pd.read_csv('cleaned_dataset.csv')\n",
        "df2.iloc[200:300]"
      ],
      "metadata": {
        "colab": {
          "base_uri": "https://localhost:8080/",
          "height": 597
        },
        "id": "vdXzEiAVXBSv",
        "outputId": "34ac6e5d-d975-441e-a872-0655c4340e4b"
      },
      "execution_count": null,
      "outputs": [
        {
          "output_type": "execute_result",
          "data": {
            "text/html": [
              "<div>\n",
              "<style scoped>\n",
              "    .dataframe tbody tr th:only-of-type {\n",
              "        vertical-align: middle;\n",
              "    }\n",
              "\n",
              "    .dataframe tbody tr th {\n",
              "        vertical-align: top;\n",
              "    }\n",
              "\n",
              "    .dataframe thead th {\n",
              "        text-align: right;\n",
              "    }\n",
              "</style>\n",
              "<table border=\"1\" class=\"dataframe\">\n",
              "  <thead>\n",
              "    <tr style=\"text-align: right;\">\n",
              "      <th></th>\n",
              "      <th>Unnamed: 0</th>\n",
              "      <th>Sentence_1</th>\n",
              "      <th>Sentence_2</th>\n",
              "    </tr>\n",
              "  </thead>\n",
              "  <tbody>\n",
              "    <tr>\n",
              "      <th>200</th>\n",
              "      <td>200</td>\n",
              "      <td>ಮುಂಬೈ ಅತ್ಯಾಚಾರ ಪ್ರಕರಣದಲ್ಲಿ ಭಾರತೀಯ ಪೊಲೀಸರು ಎಲ್ಲ...</td>\n",
              "      <td>ಮುಂಬೈ ಪೊಲೀಸರು ಸಾಮೂಹಿಕ ಅತ್ಯಾಚಾರ ಪ್ರಕರಣದಲ್ಲಿ ಐದನ...</td>\n",
              "    </tr>\n",
              "    <tr>\n",
              "      <th>201</th>\n",
              "      <td>201</td>\n",
              "      <td>ಈಜಿಪ್ಟಿನವರು ವಿಭಜಕ ಸಂವಿಧಾನದ ಮೇಲೆ ಮತ ಚಲಾಯಿಸುತ್ತಾರೆ</td>\n",
              "      <td>ಈಜಿಪ್ಟಿನವರು ಸಂವಿಧಾನ ಬದಲಾವಣೆಗೆ ಮತ ಹಾಕುತ್ತಾರೆ</td>\n",
              "    </tr>\n",
              "    <tr>\n",
              "      <th>202</th>\n",
              "      <td>202</td>\n",
              "      <td>ಉತ್ತರದಿಂದ ಉಡಾಯಿಸಿದ ಕ್ಷಿಪಣಿಗಳು ಎಂದು ದಕ್ಷಿಣ ಕೊರಿ...</td>\n",
              "      <td>ಉತ್ತರ ಕೊರಿಯಾ ಕಡಿಮೆ ವ್ಯಾಪ್ತಿಯ ಕ್ಷಿಪಣಿಗಳನ್ನು ಉಡಾ...</td>\n",
              "    </tr>\n",
              "    <tr>\n",
              "      <th>203</th>\n",
              "      <td>203</td>\n",
              "      <td>ಹೆಚ್ಚಿನ ಈಜಿಪ್ಟ್ ಪ್ರತಿಭಟನೆಗಳಿಗೆ ಕರೆಗಳು</td>\n",
              "      <td>ಈಜಿಪ್ಟ್ ಪ್ರತಿಭಟನೆಯಲ್ಲಿ ಸತ್ತವರ ಸಂಖ್ಯೆ  ಕ್ಕೆ ಏರಿದೆ</td>\n",
              "    </tr>\n",
              "    <tr>\n",
              "      <th>204</th>\n",
              "      <td>204</td>\n",
              "      <td>ರಾಸಾಯನಿಕ ಅಸ್ತ್ರಗಳ ಬಗ್ಗೆ ಅಮೆರಿಕ ಸಿರಿಯಾಕ್ಕೆ ಎಚ್ಚ...</td>\n",
              "      <td>ಸಿರಿಯಾದ ರಾಸಾಯನಿಕ ಅಸ್ತ್ರಗಳ ಬಗ್ಗೆ ಅಮೆರಿಕದ ಕಾಳಜಿ ...</td>\n",
              "    </tr>\n",
              "    <tr>\n",
              "      <th>...</th>\n",
              "      <td>...</td>\n",
              "      <td>...</td>\n",
              "      <td>...</td>\n",
              "    </tr>\n",
              "    <tr>\n",
              "      <th>295</th>\n",
              "      <td>295</td>\n",
              "      <td>ಕ್ರಿಸ್‌ಮಸ್‌ಗಾಗಿ ಬೆಥ್‌ಲೆಹೆಮ್‌ನಲ್ಲಿ ಜನಸಮೂಹ ಸೇರುತ...</td>\n",
              "      <td>ನಿಜವಾಗಿ ಬೆಥ್ ಲೆಹೆಮ್ನ ಪುಟ್ಟ ಪಟ್ಟಣ</td>\n",
              "    </tr>\n",
              "    <tr>\n",
              "      <th>296</th>\n",
              "      <td>296</td>\n",
              "      <td>ಪಾಕಿಸ್ತಾನದಲ್ಲಿ ಆತ್ಮಾಹುತಿ ಬಾಂಬ್ ದಾಳಿ ಪೊಲೀಸ್ ಅಧಿ...</td>\n",
              "      <td>ಪಾಕಿಸ್ತಾನದಲ್ಲಿ ಆತ್ಮಹತ್ಯಾ ಬಾಂಬರ್‌ಗಳು  ಸೈನಿಕರನ್ನ...</td>\n",
              "    </tr>\n",
              "    <tr>\n",
              "      <th>297</th>\n",
              "      <td>297</td>\n",
              "      <td>ಸಿರಿಯನ್ ಗಡಿಯಲ್ಲಿ ಪೇಟ್ರಿಯಾಟ್ ಕ್ಷಿಪಣಿ ಬ್ಯಾಟರಿ ಕಾ...</td>\n",
              "      <td>ಪೇಟ್ರಿಯಾಟ್ ಕ್ಷಿಪಣಿ ಬ್ಯಾಟರಿಗಳು ಸಿರಿಯನ್ ಗಡಿಯ ಬಳಿ...</td>\n",
              "    </tr>\n",
              "    <tr>\n",
              "      <th>298</th>\n",
              "      <td>298</td>\n",
              "      <td>ಭಯೋತ್ಪಾದನೆ ಆರೋಪಗಳಿಗಾಗಿ ಚಿಕಾಗೋ ವ್ಯಕ್ತಿಗೆ ಶಿಕ್ಷೆ</td>\n",
              "      <td>ಕಾಬೂಲ್ ಬ್ಯಾಂಕ್ ಮುಖ್ಯಸ್ಥರಿಗೆ ಭ್ರಷ್ಟಾಚಾರದ ಶಿಕ್ಷೆ</td>\n",
              "    </tr>\n",
              "    <tr>\n",
              "      <th>299</th>\n",
              "      <td>299</td>\n",
              "      <td>ದೀರ್ಘಕಾಲ ವಿಳಂಬಗೊಂಡ ಶಾಸಕಾಂಗ ಮತದಾನದಲ್ಲಿ ಗಿನಿಯಾ ಮ...</td>\n",
              "      <td>ಗಿನಿಯಾದ ಜನರು ಶಾಸಕಾಂಗ ಚುನಾವಣೆಯಲ್ಲಿ ಮತ ಚಲಾಯಿಸುತ್...</td>\n",
              "    </tr>\n",
              "  </tbody>\n",
              "</table>\n",
              "<p>100 rows × 3 columns</p>\n",
              "</div>"
            ],
            "text/plain": [
              "     Unnamed: 0  ...                                         Sentence_2\n",
              "200         200  ...  ಮುಂಬೈ ಪೊಲೀಸರು ಸಾಮೂಹಿಕ ಅತ್ಯಾಚಾರ ಪ್ರಕರಣದಲ್ಲಿ ಐದನ...\n",
              "201         201  ...        ಈಜಿಪ್ಟಿನವರು ಸಂವಿಧಾನ ಬದಲಾವಣೆಗೆ ಮತ ಹಾಕುತ್ತಾರೆ\n",
              "202         202  ...  ಉತ್ತರ ಕೊರಿಯಾ ಕಡಿಮೆ ವ್ಯಾಪ್ತಿಯ ಕ್ಷಿಪಣಿಗಳನ್ನು ಉಡಾ...\n",
              "203         203  ...   ಈಜಿಪ್ಟ್ ಪ್ರತಿಭಟನೆಯಲ್ಲಿ ಸತ್ತವರ ಸಂಖ್ಯೆ  ಕ್ಕೆ ಏರಿದೆ\n",
              "204         204  ...  ಸಿರಿಯಾದ ರಾಸಾಯನಿಕ ಅಸ್ತ್ರಗಳ ಬಗ್ಗೆ ಅಮೆರಿಕದ ಕಾಳಜಿ ...\n",
              "..          ...  ...                                                ...\n",
              "295         295  ...                   ನಿಜವಾಗಿ ಬೆಥ್ ಲೆಹೆಮ್ನ ಪುಟ್ಟ ಪಟ್ಟಣ\n",
              "296         296  ...  ಪಾಕಿಸ್ತಾನದಲ್ಲಿ ಆತ್ಮಹತ್ಯಾ ಬಾಂಬರ್‌ಗಳು  ಸೈನಿಕರನ್ನ...\n",
              "297         297  ...  ಪೇಟ್ರಿಯಾಟ್ ಕ್ಷಿಪಣಿ ಬ್ಯಾಟರಿಗಳು ಸಿರಿಯನ್ ಗಡಿಯ ಬಳಿ...\n",
              "298         298  ...     ಕಾಬೂಲ್ ಬ್ಯಾಂಕ್ ಮುಖ್ಯಸ್ಥರಿಗೆ ಭ್ರಷ್ಟಾಚಾರದ ಶಿಕ್ಷೆ\n",
              "299         299  ...  ಗಿನಿಯಾದ ಜನರು ಶಾಸಕಾಂಗ ಚುನಾವಣೆಯಲ್ಲಿ ಮತ ಚಲಾಯಿಸುತ್...\n",
              "\n",
              "[100 rows x 3 columns]"
            ]
          },
          "metadata": {},
          "execution_count": 30
        }
      ]
    },
    {
      "cell_type": "code",
      "metadata": {
        "id": "8dH7Igo_fJmp"
      },
      "source": [
        "# TOKENIZER API\n",
        "\n",
        "s1= []\n",
        "s2= []\n",
        "for i in range(len(df)):\n",
        "  s1.append(list(tokenize(df.Sentence_1.iloc[i],'kn')))\n",
        "  s2.append(list(tokenize(df.Sentence_2.iloc[i],'kn')))"
      ],
      "execution_count": null,
      "outputs": []
    },
    {
      "cell_type": "code",
      "source": [
        "# output is a LIST OF LISTS containing the tokens of every sentence"
      ],
      "metadata": {
        "id": "rVyvbTV9ZkM-"
      },
      "execution_count": null,
      "outputs": []
    },
    {
      "cell_type": "code",
      "metadata": {
        "id": "X8lAXV4CRg-s",
        "colab": {
          "base_uri": "https://localhost:8080/"
        },
        "outputId": "ed569481-68fc-428d-cbd7-f947f6c46548"
      },
      "source": [
        "# TO SHOW difference of cleaned sentence and tokenized sentence\n",
        "\n",
        "m= 310\n",
        "print(df.Sentence_1.iloc[m])\n",
        "s1[m]"
      ],
      "execution_count": null,
      "outputs": [
        {
          "output_type": "stream",
          "name": "stdout",
          "text": [
            "ಒಬಾಮಾ ಒಬಾಮಾಕೇರ್‌ಗೆ ಸಹಿ ಹಾಕಿದರು\n"
          ]
        },
        {
          "output_type": "execute_result",
          "data": {
            "text/plain": [
              "['▁ಒಬಾಮಾ', '▁ಒಬಾಮಾ', 'ಕೇ', 'ರ್', '▁ಗೆ', '▁ಸಹಿ', '▁ಹಾಕಿದರು']"
            ]
          },
          "metadata": {},
          "execution_count": 34
        }
      ]
    },
    {
      "cell_type": "code",
      "metadata": {
        "id": "bprI2cUIgg3p",
        "colab": {
          "base_uri": "https://localhost:8080/"
        },
        "outputId": "3888e011-5e86-4686-acf2-8834972d2293"
      },
      "source": [
        "# A porter stemmer to show stemmed tokens\n",
        "\n",
        "import nltk\n",
        "from nltk.stem import PorterStemmer\n",
        "from nltk.tokenize import word_tokenize\n",
        "nltk.download('punkt')\n",
        "  \n",
        "ps = PorterStemmer()"
      ],
      "execution_count": null,
      "outputs": [
        {
          "output_type": "stream",
          "name": "stdout",
          "text": [
            "[nltk_data] Downloading package punkt to /root/nltk_data...\n",
            "[nltk_data]   Package punkt is already up-to-date!\n"
          ]
        }
      ]
    },
    {
      "cell_type": "code",
      "source": [
        "print(s1[100])\n",
        "print([ps.stem(ele) for ele in s1[100]])"
      ],
      "metadata": {
        "colab": {
          "base_uri": "https://localhost:8080/"
        },
        "id": "aEHeo-0pZD3i",
        "outputId": "744f5f64-4121-4a6c-83e1-bfc9eaf55229"
      },
      "execution_count": null,
      "outputs": [
        {
          "output_type": "stream",
          "name": "stdout",
          "text": [
            "['▁ಇರಾನ್', '▁ಅಧ್ಯಕ್ಷೀಯ', '▁ಮತದಾನ', 'ದಲ್ಲಿ', '▁ರೂ', 'ಹಾನಿ', '▁ಮುನ್ನಡೆ', '▁ಪ್ರಾಥಮಿಕ', '▁ಫಲಿತಾಂಶಗಳು']\n",
            "['▁ಇರಾನ್', '▁ಅಧ್ಯಕ್ಷೀಯ', '▁ಮತದಾನ', 'ದಲ್ಲಿ', '▁ರೂ', 'ಹಾನಿ', '▁ಮುನ್ನಡೆ', '▁ಪ್ರಾಥಮಿಕ', '▁ಫಲಿತಾಂಶಗಳು']\n"
          ]
        }
      ]
    },
    {
      "cell_type": "code",
      "source": [
        ""
      ],
      "metadata": {
        "id": "ExDLa-VnZSi0"
      },
      "execution_count": null,
      "outputs": []
    }
  ]
}